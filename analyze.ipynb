{
 "cells": [
  {
   "cell_type": "code",
   "execution_count": 1,
   "id": "driven-laugh",
   "metadata": {},
   "outputs": [],
   "source": [
    "from blimpy import Waterfall"
   ]
  },
  {
   "cell_type": "code",
   "execution_count": 2,
   "id": "guided-ratio",
   "metadata": {},
   "outputs": [],
   "source": [
    "FILE = \"/d/astrodata/guppi_59012_79941_6072997821_XaS038-S5-HVS_S_0001.0000.h5\""
   ]
  },
  {
   "cell_type": "code",
   "execution_count": null,
   "id": "dramatic-arbor",
   "metadata": {},
   "outputs": [],
   "source": []
  }
 ],
 "metadata": {
  "kernelspec": {
   "display_name": "Python 3",
   "language": "python",
   "name": "python3"
  },
  "language_info": {
   "codemirror_mode": {
    "name": "ipython",
    "version": 3
   },
   "file_extension": ".py",
   "mimetype": "text/x-python",
   "name": "python",
   "nbconvert_exporter": "python",
   "pygments_lexer": "ipython3",
   "version": "3.9.2"
  }
 },
 "nbformat": 4,
 "nbformat_minor": 5
}
