{
 "cells": [
  {
   "cell_type": "code",
   "execution_count": 2,
   "id": "cross-abuse",
   "metadata": {},
   "outputs": [],
   "source": [
    "import blimpy"
   ]
  },
  {
   "cell_type": "code",
   "execution_count": 3,
   "id": "coupled-compact",
   "metadata": {},
   "outputs": [],
   "source": [
    "FILENAME = \"data/blc41_guppi_59103_01372_PSR_B2021+51_0009.rawspec.0000.h5\""
   ]
  },
  {
   "cell_type": "code",
   "execution_count": 4,
   "id": "federal-compact",
   "metadata": {},
   "outputs": [
    {
     "data": {
      "text/plain": [
       "13690.115"
      ]
     },
     "execution_count": 4,
     "metadata": {},
     "output_type": "execute_result"
    }
   ],
   "source": [
    "fb = blimpy.Waterfall(FILENAME)\n",
    "fb.data.shape\n",
    "fb.data[5][0][30]"
   ]
  },
  {
   "cell_type": "code",
   "execution_count": 5,
   "id": "empty-europe",
   "metadata": {},
   "outputs": [],
   "source": [
    "import h5py"
   ]
  },
  {
   "cell_type": "code",
   "execution_count": 14,
   "id": "forty-photographer",
   "metadata": {},
   "outputs": [
    {
     "data": {
      "text/plain": [
       "13690.115"
      ]
     },
     "execution_count": 14,
     "metadata": {},
     "output_type": "execute_result"
    }
   ],
   "source": [
    "f = h5py.File(FILENAME, \"r\")\n",
    "f[\"data\"][5][0][30]"
   ]
  },
  {
   "cell_type": "code",
   "execution_count": null,
   "id": "solved-delhi",
   "metadata": {},
   "outputs": [],
   "source": []
  }
 ],
 "metadata": {
  "kernelspec": {
   "display_name": "Python 3",
   "language": "python",
   "name": "python3"
  },
  "language_info": {
   "codemirror_mode": {
    "name": "ipython",
    "version": 3
   },
   "file_extension": ".py",
   "mimetype": "text/x-python",
   "name": "python",
   "nbconvert_exporter": "python",
   "pygments_lexer": "ipython3",
   "version": "3.9.2"
  }
 },
 "nbformat": 4,
 "nbformat_minor": 5
}
