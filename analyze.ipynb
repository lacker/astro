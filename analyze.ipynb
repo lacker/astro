{
 "cells": [
  {
   "cell_type": "code",
   "execution_count": 1,
   "id": "cross-abuse",
   "metadata": {},
   "outputs": [],
   "source": [
    "import hdf5plugin\n",
    "import h5py\n",
    "import cupy\n",
    "import matplotlib.pyplot as plt\n",
    "%matplotlib inline"
   ]
  },
  {
   "cell_type": "code",
   "execution_count": 2,
   "id": "coupled-compact",
   "metadata": {},
   "outputs": [],
   "source": [
    "FILENAME = \"data/blc41_guppi_59103_01372_PSR_B2021+51_0009.rawspec.0000.h5\""
   ]
  },
  {
   "cell_type": "code",
   "execution_count": 3,
   "id": "forty-photographer",
   "metadata": {},
   "outputs": [
    {
     "data": {
      "text/plain": [
       "(16, 1, 67108864)"
      ]
     },
     "execution_count": 3,
     "metadata": {},
     "output_type": "execute_result"
    }
   ],
   "source": [
    "f = h5py.File(FILENAME, \"r\")\n",
    "data = f[\"data\"]\n",
    "data.shape"
   ]
  },
  {
   "cell_type": "code",
   "execution_count": 4,
   "id": "large-compact",
   "metadata": {},
   "outputs": [
    {
     "data": {
      "text/plain": [
       "15226.765"
      ]
     },
     "execution_count": 4,
     "metadata": {},
     "output_type": "execute_result"
    }
   ],
   "source": [
    "data[0, 0, 0]"
   ]
  },
  {
   "cell_type": "code",
   "execution_count": 5,
   "id": "incomplete-steel",
   "metadata": {},
   "outputs": [
    {
     "name": "stdout",
     "output_type": "stream",
     "text": [
      "(16, 100)\n"
     ]
    },
    {
     "data": {
      "text/plain": [
       "<matplotlib.image.AxesImage at 0x7f0ba6743a60>"
      ]
     },
     "execution_count": 5,
     "metadata": {},
     "output_type": "execute_result"
    },
    {
     "data": {
      "image/png": "[encoded data removed]",
      "text/plain": [
       "<Figure size 432x288 with 1 Axes>"
      ]
     },
     "metadata": {
      "needs_background": "light"
     },
     "output_type": "display_data"
    }
   ],
   "source": [
    "c = cupy.asarray(data[:, 0, :100])\n",
    "print(c.shape)\n",
    "plt.imshow(c.get())"
   ]
  },
  {
   "cell_type": "code",
   "execution_count": 6,
   "id": "searching-working",
   "metadata": {},
   "outputs": [],
   "source": [
    "c = cupy.asarray(data[:, 0, :])"
   ]
  },
  {
   "cell_type": "code",
   "execution_count": 16,
   "id": "minor-dimension",
   "metadata": {},
   "outputs": [],
   "source": [
    "# dict(data.attrs)"
   ]
  },
  {
   "cell_type": "code",
   "execution_count": 8,
   "id": "varied-western",
   "metadata": {},
   "outputs": [
    {
     "data": {
      "text/plain": [
       "(6815.15966796875, 5737905664.0)"
      ]
     },
     "execution_count": 8,
     "metadata": {},
     "output_type": "execute_result"
    }
   ],
   "source": [
    "cmax = cupy.amax(c).item()\n",
    "cmin = cupy.amin(c).item()\n",
    "cmin, cmax"
   ]
  },
  {
   "cell_type": "code",
   "execution_count": 9,
   "id": "civic-military",
   "metadata": {},
   "outputs": [],
   "source": [
    "norm = (c[:, :10000000] - cmin) / (cmax - cmin)"
   ]
  },
  {
   "cell_type": "code",
   "execution_count": 10,
   "id": "furnished-establishment",
   "metadata": {},
   "outputs": [
    {
     "data": {
      "text/plain": [
       "<matplotlib.image.AxesImage at 0x7f0ba662fa30>"
      ]
     },
     "execution_count": 10,
     "metadata": {},
     "output_type": "execute_result"
    },
    {
     "data": {
      "image/png": "[encoded data removed]",
      "text/plain": [
       "<Figure size 432x288 with 1 Axes>"
      ]
     },
     "metadata": {
      "needs_background": "light"
     },
     "output_type": "display_data"
    }
   ],
   "source": [
    "plt.imshow(norm[:, :100].get())"
   ]
  },
  {
   "cell_type": "code",
   "execution_count": 11,
   "id": "saving-question",
   "metadata": {},
   "outputs": [
    {
     "data": {
      "text/plain": [
       "array([1.4659731e-06, 7.9528195e-07, 5.2919120e-07, ..., 2.9917176e-06,\n",
       "       2.8984457e-06, 3.0688832e-06], dtype=float32)"
      ]
     },
     "execution_count": 11,
     "metadata": {},
     "output_type": "execute_result"
    }
   ],
   "source": [
    "norm[0]"
   ]
  },
  {
   "cell_type": "code",
   "execution_count": 12,
   "id": "hollywood-reaction",
   "metadata": {},
   "outputs": [],
   "source": [
    "inorm = (norm * 100).astype(int)"
   ]
  },
  {
   "cell_type": "code",
   "execution_count": 13,
   "id": "contained-reputation",
   "metadata": {},
   "outputs": [
    {
     "data": {
      "text/plain": [
       "array([0, 0, 0, ..., 0, 0, 0])"
      ]
     },
     "execution_count": 13,
     "metadata": {},
     "output_type": "execute_result"
    }
   ],
   "source": [
    "inorm[0]"
   ]
  },
  {
   "cell_type": "code",
   "execution_count": 14,
   "id": "wrapped-mambo",
   "metadata": {},
   "outputs": [
    {
     "data": {
      "text/plain": [
       "<matplotlib.image.AxesImage at 0x7f0ba6602d30>"
      ]
     },
     "execution_count": 14,
     "metadata": {},
     "output_type": "execute_result"
    },
    {
     "data": {
      "image/png": "[encoded data removed]",
      "text/plain": [
       "<Figure size 432x288 with 1 Axes>"
      ]
     },
     "metadata": {
      "needs_background": "light"
     },
     "output_type": "display_data"
    }
   ],
   "source": [
    "plt.imshow(inorm[:, :100].get())"
   ]
  },
  {
   "cell_type": "code",
   "execution_count": 15,
   "id": "superior-playing",
   "metadata": {},
   "outputs": [
    {
     "data": {
      "text/plain": [
       "array([ 524288, 1572864, 2621440, 3670016, 4718592, 5767168, 6815744,\n",
       "       7864320, 8912896, 9961472])"
      ]
     },
     "execution_count": 15,
     "metadata": {},
     "output_type": "execute_result"
    }
   ],
   "source": [
    "nz = cupy.nonzero(cupy.amax(inorm, axis=0))[0]\n",
    "nz"
   ]
  },
  {
   "cell_type": "code",
   "execution_count": 17,
   "id": "sublime-proposition",
   "metadata": {},
   "outputs": [
    {
     "data": {
      "text/plain": [
       "<matplotlib.image.AxesImage at 0x7f0ba6565490>"
      ]
     },
     "execution_count": 17,
     "metadata": {},
     "output_type": "execute_result"
    },
    {
     "data": {
      "image/png": "[encoded data removed]",
      "text/plain": [
       "<Figure size 432x288 with 1 Axes>"
      ]
     },
     "metadata": {
      "needs_background": "light"
     },
     "output_type": "display_data"
    }
   ],
   "source": [
    "plt.imshow(c[:, 524250:524300].get())"
   ]
  },
  {
   "cell_type": "code",
   "execution_count": null,
   "id": "tested-fitness",
   "metadata": {},
   "outputs": [],
   "source": []
  }
 ],
 "metadata": {
  "kernelspec": {
   "display_name": "Python 3",
   "language": "python",
   "name": "python3"
  },
  "language_info": {
   "codemirror_mode": {
    "name": "ipython",
    "version": 3
   },
   "file_extension": ".py",
   "mimetype": "text/x-python",
   "name": "python",
   "nbconvert_exporter": "python",
   "pygments_lexer": "ipython3",
   "version": "3.9.2"
  }
 },
 "nbformat": 4,
 "nbformat_minor": 5
}
