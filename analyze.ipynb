{
 "cells": [
  {
   "cell_type": "code",
   "execution_count": 1,
   "id": "cross-abuse",
   "metadata": {},
   "outputs": [],
   "source": [
    "import blimpy"
   ]
  },
  {
   "cell_type": "code",
   "execution_count": 2,
   "id": "coupled-compact",
   "metadata": {},
   "outputs": [],
   "source": [
    "FILENAME = \"data/blc41_guppi_59103_01372_PSR_B2021+51_0009.rawspec.0000.h5\""
   ]
  },
  {
   "cell_type": "code",
   "execution_count": 4,
   "id": "federal-compact",
   "metadata": {},
   "outputs": [],
   "source": [
    "fb = blimpy.Waterfall(FILENAME)"
   ]
  },
  {
   "cell_type": "code",
   "execution_count": 6,
   "id": "empty-europe",
   "metadata": {},
   "outputs": [
    {
     "name": "stdout",
     "output_type": "stream",
     "text": [
      "\n",
      "--- File Info ---\n",
      "DIMENSION_LABELS :   ['time' 'feed_id' 'frequency']\n",
      "        az_start :                              0.0\n",
      "       data_type :                                1\n",
      "            fch1 :                2063.96484375 MHz\n",
      "            foff :      -2.7939677238464355e-06 MHz\n",
      "           ibeam :                               -1\n",
      "      machine_id :                               20\n",
      "          nbeams :                                1\n",
      "           nbits :                               32\n",
      "          nchans :                         67108864\n",
      "            nifs :                                1\n",
      "     rawdatafile : guppi_59103_01372_PSR_B2021+51_0009.0000.raw\n",
      "     source_name :                     PSR_B2021+51\n",
      "         src_dej :                      51:54:49.32\n",
      "         src_raj :                      20:22:50.16\n",
      "    telescope_id :                                6\n",
      "           tsamp :               18.253611007999982\n",
      "   tstart (ISOT) :          2020-09-11T00:22:52.000\n",
      "    tstart (MJD) :                59103.01587962963\n",
      "        za_start :                              0.0\n",
      "\n",
      "Num ints in file :                               16\n",
      "      File shape :                (16, 1, 67108864)\n",
      "--- Selection Info ---\n",
      "Data selection shape :                (16, 1, 67108864)\n",
      "Minimum freq (MHz) :               1876.4648465439677\n",
      "Maximum freq (MHz) :                    2063.96484375\n"
     ]
    }
   ],
   "source": [
    "fb.info()"
   ]
  },
  {
   "cell_type": "code",
   "execution_count": 8,
   "id": "forty-photographer",
   "metadata": {},
   "outputs": [
    {
     "data": {
      "text/plain": [
       "(16, 1, 67108864)"
      ]
     },
     "execution_count": 8,
     "metadata": {},
     "output_type": "execute_result"
    }
   ],
   "source": [
    "fb.data.shape"
   ]
  },
  {
   "cell_type": "code",
   "execution_count": 9,
   "id": "verified-direction",
   "metadata": {},
   "outputs": [
    {
     "data": {
      "text/plain": [
       "13690.115"
      ]
     },
     "execution_count": 9,
     "metadata": {},
     "output_type": "execute_result"
    }
   ],
   "source": [
    "fb.data[5][0][30]"
   ]
  },
  {
   "cell_type": "code",
   "execution_count": null,
   "id": "solved-delhi",
   "metadata": {},
   "outputs": [],
   "source": []
  }
 ],
 "metadata": {
  "kernelspec": {
   "display_name": "Python 3",
   "language": "python",
   "name": "python3"
  },
  "language_info": {
   "codemirror_mode": {
    "name": "ipython",
    "version": 3
   },
   "file_extension": ".py",
   "mimetype": "text/x-python",
   "name": "python",
   "nbconvert_exporter": "python",
   "pygments_lexer": "ipython3",
   "version": "3.9.2"
  }
 },
 "nbformat": 4,
 "nbformat_minor": 5
}
