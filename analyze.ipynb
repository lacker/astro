{
 "cells": [
  {
   "cell_type": "code",
   "execution_count": 1,
   "id": "cross-abuse",
   "metadata": {},
   "outputs": [],
   "source": [
    "import h5py"
   ]
  },
  {
   "cell_type": "code",
   "execution_count": 12,
   "id": "coupled-compact",
   "metadata": {},
   "outputs": [],
   "source": [
    "FILENAME = \"data/blc41_guppi_59103_01372_PSR_B2021+51_0009.rawspec.0000.h5\"\n",
    "h5 = h5py.File(FILENAME, mode=\"r\")"
   ]
  },
  {
   "cell_type": "code",
   "execution_count": 13,
   "id": "federal-compact",
   "metadata": {},
   "outputs": [
    {
     "data": {
      "text/plain": [
       "{'DIMENSION_LABELS': array(['time', 'feed_id', 'frequency'], dtype=object),\n",
       " 'az_start': 0.0,\n",
       " 'data_type': 1,\n",
       " 'fch1': 2063.96484375,\n",
       " 'foff': -2.7939677238464355e-06,\n",
       " 'ibeam': -1,\n",
       " 'machine_id': 20,\n",
       " 'nbeams': 1,\n",
       " 'nbits': 32,\n",
       " 'nchans': 67108864,\n",
       " 'nifs': 1,\n",
       " 'rawdatafile': 'guppi_59103_01372_PSR_B2021+51_0009.0000.raw',\n",
       " 'source_name': 'PSR_B2021+51',\n",
       " 'src_dej': 51.9137,\n",
       " 'src_raj': 20.3806,\n",
       " 'telescope_id': 6,\n",
       " 'tsamp': 18.253611007999982,\n",
       " 'tstart': 59103.01587962963,\n",
       " 'za_start': 0.0}"
      ]
     },
     "execution_count": 13,
     "metadata": {},
     "output_type": "execute_result"
    }
   ],
   "source": [
    "dict(h5[\"data\"].attrs)"
   ]
  },
  {
   "cell_type": "code",
   "execution_count": 14,
   "id": "empty-europe",
   "metadata": {},
   "outputs": [
    {
     "data": {
      "text/plain": [
       "{'DIMENSION_LABELS': array(['time', 'feed_id', 'frequency'], dtype=object)}"
      ]
     },
     "execution_count": 14,
     "metadata": {},
     "output_type": "execute_result"
    }
   ],
   "source": [
    "dict(h5[\"mask\"].attrs)"
   ]
  },
  {
   "cell_type": "code",
   "execution_count": null,
   "id": "forty-photographer",
   "metadata": {},
   "outputs": [],
   "source": []
  }
 ],
 "metadata": {
  "kernelspec": {
   "display_name": "Python 3",
   "language": "python",
   "name": "python3"
  },
  "language_info": {
   "codemirror_mode": {
    "name": "ipython",
    "version": 3
   },
   "file_extension": ".py",
   "mimetype": "text/x-python",
   "name": "python",
   "nbconvert_exporter": "python",
   "pygments_lexer": "ipython3",
   "version": "3.9.2"
  }
 },
 "nbformat": 4,
 "nbformat_minor": 5
}
