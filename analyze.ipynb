{
 "cells": [
  {
   "cell_type": "code",
   "execution_count": 15,
   "id": "cross-abuse",
   "metadata": {},
   "outputs": [],
   "source": [
    "import blimpy\n",
    "import h5py\n",
    "import cupy"
   ]
  },
  {
   "cell_type": "code",
   "execution_count": 2,
   "id": "coupled-compact",
   "metadata": {},
   "outputs": [],
   "source": [
    "FILENAME = \"data/blc41_guppi_59103_01372_PSR_B2021+51_0009.rawspec.0000.h5\""
   ]
  },
  {
   "cell_type": "code",
   "execution_count": 3,
   "id": "federal-compact",
   "metadata": {},
   "outputs": [
    {
     "data": {
      "text/plain": [
       "13690.115"
      ]
     },
     "execution_count": 3,
     "metadata": {},
     "output_type": "execute_result"
    }
   ],
   "source": [
    "fb = blimpy.Waterfall(FILENAME)\n",
    "fb.data.shape\n",
    "fb.data[5][0][30]"
   ]
  },
  {
   "cell_type": "code",
   "execution_count": 4,
   "id": "empty-europe",
   "metadata": {},
   "outputs": [],
   "source": [
    "import h5py"
   ]
  },
  {
   "cell_type": "code",
   "execution_count": 12,
   "id": "forty-photographer",
   "metadata": {},
   "outputs": [
    {
     "data": {
      "text/plain": [
       "(16, 1, 67108864)"
      ]
     },
     "execution_count": 12,
     "metadata": {},
     "output_type": "execute_result"
    }
   ],
   "source": [
    "f = h5py.File(FILENAME, \"r\")\n",
    "data = f[\"data\"]\n",
    "data.shape"
   ]
  },
  {
   "cell_type": "code",
   "execution_count": 13,
   "id": "adolescent-coordination",
   "metadata": {},
   "outputs": [
    {
     "data": {
      "text/plain": [
       "(16, 200)"
      ]
     },
     "execution_count": 13,
     "metadata": {},
     "output_type": "execute_result"
    }
   ],
   "source": [
    "sub = data[:, 0, :200]\n",
    "sub.shape"
   ]
  },
  {
   "cell_type": "code",
   "execution_count": 16,
   "id": "incomplete-steel",
   "metadata": {},
   "outputs": [
    {
     "data": {
      "text/plain": [
       "(16, 200)"
      ]
     },
     "execution_count": 16,
     "metadata": {},
     "output_type": "execute_result"
    }
   ],
   "source": [
    "c = cupy.asarray(sub)\n",
    "c.shape"
   ]
  },
  {
   "cell_type": "code",
   "execution_count": null,
   "id": "automatic-curtis",
   "metadata": {},
   "outputs": [],
   "source": []
  }
 ],
 "metadata": {
  "kernelspec": {
   "display_name": "Python 3",
   "language": "python",
   "name": "python3"
  },
  "language_info": {
   "codemirror_mode": {
    "name": "ipython",
    "version": 3
   },
   "file_extension": ".py",
   "mimetype": "text/x-python",
   "name": "python",
   "nbconvert_exporter": "python",
   "pygments_lexer": "ipython3",
   "version": "3.9.2"
  }
 },
 "nbformat": 4,
 "nbformat_minor": 5
}
