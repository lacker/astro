{
 "cells": [
  {
   "cell_type": "code",
   "execution_count": 1,
   "id": "cross-abuse",
   "metadata": {},
   "outputs": [],
   "source": [
    "import hdf5plugin\n",
    "import h5py\n",
    "import cupy\n",
    "import matplotlib.pyplot as plt\n",
    "%matplotlib inline"
   ]
  },
  {
   "cell_type": "code",
   "execution_count": 2,
   "id": "coupled-compact",
   "metadata": {},
   "outputs": [],
   "source": [
    "FILENAME = \"data/blc41_guppi_59103_01372_PSR_B2021+51_0009.rawspec.0000.h5\""
   ]
  },
  {
   "cell_type": "code",
   "execution_count": 3,
   "id": "forty-photographer",
   "metadata": {},
   "outputs": [
    {
     "data": {
      "text/plain": [
       "(16, 1, 67108864)"
      ]
     },
     "execution_count": 3,
     "metadata": {},
     "output_type": "execute_result"
    }
   ],
   "source": [
    "f = h5py.File(FILENAME, \"r\")\n",
    "data = f[\"data\"]\n",
    "data.shape"
   ]
  },
  {
   "cell_type": "code",
   "execution_count": 4,
   "id": "large-compact",
   "metadata": {},
   "outputs": [
    {
     "data": {
      "text/plain": [
       "15226.765"
      ]
     },
     "execution_count": 4,
     "metadata": {},
     "output_type": "execute_result"
    }
   ],
   "source": [
    "data[0, 0, 0]"
   ]
  },
  {
   "cell_type": "code",
   "execution_count": 5,
   "id": "incomplete-steel",
   "metadata": {},
   "outputs": [
    {
     "name": "stdout",
     "output_type": "stream",
     "text": [
      "(16, 100)\n"
     ]
    },
    {
     "data": {
      "text/plain": [
       "<matplotlib.image.AxesImage at 0x7ff606d28b50>"
      ]
     },
     "execution_count": 5,
     "metadata": {},
     "output_type": "execute_result"
    },
    {
     "data": {
      "image/png": "[encoded data removed]",
      "text/plain": [
       "<Figure size 432x288 with 1 Axes>"
      ]
     },
     "metadata": {
      "needs_background": "light"
     },
     "output_type": "display_data"
    }
   ],
   "source": [
    "c = cupy.asarray(data[:, 0, :100])\n",
    "print(c.shape)\n",
    "plt.imshow(c.get())"
   ]
  },
  {
   "cell_type": "code",
   "execution_count": 6,
   "id": "searching-working",
   "metadata": {},
   "outputs": [],
   "source": [
    "c = cupy.asarray(data[:, 0, :])"
   ]
  },
  {
   "cell_type": "code",
   "execution_count": 7,
   "id": "inner-spotlight",
   "metadata": {},
   "outputs": [
    {
     "data": {
      "text/plain": [
       "5737905664.0"
      ]
     },
     "execution_count": 7,
     "metadata": {},
     "output_type": "execute_result"
    }
   ],
   "source": [
    "cupy.amax(c).item()"
   ]
  },
  {
   "cell_type": "code",
   "execution_count": 8,
   "id": "eleven-cooler",
   "metadata": {},
   "outputs": [],
   "source": [
    "cmax = cupy.max(c, axis=0) # max of each column"
   ]
  },
  {
   "cell_type": "code",
   "execution_count": 16,
   "id": "brilliant-mountain",
   "metadata": {},
   "outputs": [
    {
     "data": {
      "text/plain": [
       "<matplotlib.image.AxesImage at 0x7ff6060821f0>"
      ]
     },
     "execution_count": 16,
     "metadata": {},
     "output_type": "execute_result"
    },
    {
     "data": {
      "image/png": "[encoded data removed]",
      "text/plain": [
       "<Figure size 432x288 with 1 Axes>"
      ]
     },
     "metadata": {
      "needs_background": "light"
     },
     "output_type": "display_data"
    }
   ],
   "source": [
    "n = 7000000\n",
    "plt.imshow(c[:, n:n+100].get())"
   ]
  },
  {
   "cell_type": "code",
   "execution_count": 18,
   "id": "minor-dimension",
   "metadata": {},
   "outputs": [
    {
     "data": {
      "text/plain": [
       "{'DIMENSION_LABELS': array(['time', 'feed_id', 'frequency'], dtype=object),\n",
       " 'az_start': 0.0,\n",
       " 'data_type': 1,\n",
       " 'fch1': 2063.96484375,\n",
       " 'foff': -2.7939677238464355e-06,\n",
       " 'ibeam': -1,\n",
       " 'machine_id': 20,\n",
       " 'nbeams': 1,\n",
       " 'nbits': 32,\n",
       " 'nchans': 67108864,\n",
       " 'nifs': 1,\n",
       " 'rawdatafile': 'guppi_59103_01372_PSR_B2021+51_0009.0000.raw',\n",
       " 'source_name': 'PSR_B2021+51',\n",
       " 'src_dej': 51.9137,\n",
       " 'src_raj': 20.3806,\n",
       " 'telescope_id': 6,\n",
       " 'tsamp': 18.253611007999982,\n",
       " 'tstart': 59103.01587962963,\n",
       " 'za_start': 0.0}"
      ]
     },
     "execution_count": 18,
     "metadata": {},
     "output_type": "execute_result"
    }
   ],
   "source": [
    "dict(data.attrs)"
   ]
  },
  {
   "cell_type": "code",
   "execution_count": null,
   "id": "varied-western",
   "metadata": {},
   "outputs": [],
   "source": []
  }
 ],
 "metadata": {
  "kernelspec": {
   "display_name": "Python 3",
   "language": "python",
   "name": "python3"
  },
  "language_info": {
   "codemirror_mode": {
    "name": "ipython",
    "version": 3
   },
   "file_extension": ".py",
   "mimetype": "text/x-python",
   "name": "python",
   "nbconvert_exporter": "python",
   "pygments_lexer": "ipython3",
   "version": "3.9.2"
  }
 },
 "nbformat": 4,
 "nbformat_minor": 5
}
